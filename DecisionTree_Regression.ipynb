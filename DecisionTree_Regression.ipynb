{
 "cells": [
  {
   "cell_type": "code",
   "execution_count": 1,
   "id": "58a11dc0",
   "metadata": {},
   "outputs": [],
   "source": [
    "import pandas as pd\n",
    "import numpy as np\n",
    "import matplotlib as plt\n",
    "import seaborn as sns"
   ]
  },
  {
   "cell_type": "code",
   "execution_count": 2,
   "id": "4bafc382",
   "metadata": {},
   "outputs": [],
   "source": [
    "#Using read_csv function from pandas to read the csv file\n",
    "df = pd.read_csv('https://github.com/YBIFoundation/Dataset/raw/main/Admission%20Chance.csv')"
   ]
  },
  {
   "cell_type": "code",
   "execution_count": 3,
   "id": "6300cb57",
   "metadata": {},
   "outputs": [
    {
     "data": {
      "text/html": [
       "<div>\n",
       "<style scoped>\n",
       "    .dataframe tbody tr th:only-of-type {\n",
       "        vertical-align: middle;\n",
       "    }\n",
       "\n",
       "    .dataframe tbody tr th {\n",
       "        vertical-align: top;\n",
       "    }\n",
       "\n",
       "    .dataframe thead th {\n",
       "        text-align: right;\n",
       "    }\n",
       "</style>\n",
       "<table border=\"1\" class=\"dataframe\">\n",
       "  <thead>\n",
       "    <tr style=\"text-align: right;\">\n",
       "      <th></th>\n",
       "      <th>Serial No</th>\n",
       "      <th>GRE Score</th>\n",
       "      <th>TOEFL Score</th>\n",
       "      <th>University Rating</th>\n",
       "      <th>SOP</th>\n",
       "      <th>LOR</th>\n",
       "      <th>CGPA</th>\n",
       "      <th>Research</th>\n",
       "      <th>Chance of Admit</th>\n",
       "    </tr>\n",
       "  </thead>\n",
       "  <tbody>\n",
       "    <tr>\n",
       "      <th>0</th>\n",
       "      <td>1</td>\n",
       "      <td>337</td>\n",
       "      <td>118</td>\n",
       "      <td>4</td>\n",
       "      <td>4.5</td>\n",
       "      <td>4.5</td>\n",
       "      <td>9.65</td>\n",
       "      <td>1</td>\n",
       "      <td>0.92</td>\n",
       "    </tr>\n",
       "    <tr>\n",
       "      <th>1</th>\n",
       "      <td>2</td>\n",
       "      <td>324</td>\n",
       "      <td>107</td>\n",
       "      <td>4</td>\n",
       "      <td>4.0</td>\n",
       "      <td>4.5</td>\n",
       "      <td>8.87</td>\n",
       "      <td>1</td>\n",
       "      <td>0.76</td>\n",
       "    </tr>\n",
       "    <tr>\n",
       "      <th>2</th>\n",
       "      <td>3</td>\n",
       "      <td>316</td>\n",
       "      <td>104</td>\n",
       "      <td>3</td>\n",
       "      <td>3.0</td>\n",
       "      <td>3.5</td>\n",
       "      <td>8.00</td>\n",
       "      <td>1</td>\n",
       "      <td>0.72</td>\n",
       "    </tr>\n",
       "    <tr>\n",
       "      <th>3</th>\n",
       "      <td>4</td>\n",
       "      <td>322</td>\n",
       "      <td>110</td>\n",
       "      <td>3</td>\n",
       "      <td>3.5</td>\n",
       "      <td>2.5</td>\n",
       "      <td>8.67</td>\n",
       "      <td>1</td>\n",
       "      <td>0.80</td>\n",
       "    </tr>\n",
       "    <tr>\n",
       "      <th>4</th>\n",
       "      <td>5</td>\n",
       "      <td>314</td>\n",
       "      <td>103</td>\n",
       "      <td>2</td>\n",
       "      <td>2.0</td>\n",
       "      <td>3.0</td>\n",
       "      <td>8.21</td>\n",
       "      <td>0</td>\n",
       "      <td>0.65</td>\n",
       "    </tr>\n",
       "    <tr>\n",
       "      <th>...</th>\n",
       "      <td>...</td>\n",
       "      <td>...</td>\n",
       "      <td>...</td>\n",
       "      <td>...</td>\n",
       "      <td>...</td>\n",
       "      <td>...</td>\n",
       "      <td>...</td>\n",
       "      <td>...</td>\n",
       "      <td>...</td>\n",
       "    </tr>\n",
       "    <tr>\n",
       "      <th>395</th>\n",
       "      <td>396</td>\n",
       "      <td>324</td>\n",
       "      <td>110</td>\n",
       "      <td>3</td>\n",
       "      <td>3.5</td>\n",
       "      <td>3.5</td>\n",
       "      <td>9.04</td>\n",
       "      <td>1</td>\n",
       "      <td>0.82</td>\n",
       "    </tr>\n",
       "    <tr>\n",
       "      <th>396</th>\n",
       "      <td>397</td>\n",
       "      <td>325</td>\n",
       "      <td>107</td>\n",
       "      <td>3</td>\n",
       "      <td>3.0</td>\n",
       "      <td>3.5</td>\n",
       "      <td>9.11</td>\n",
       "      <td>1</td>\n",
       "      <td>0.84</td>\n",
       "    </tr>\n",
       "    <tr>\n",
       "      <th>397</th>\n",
       "      <td>398</td>\n",
       "      <td>330</td>\n",
       "      <td>116</td>\n",
       "      <td>4</td>\n",
       "      <td>5.0</td>\n",
       "      <td>4.5</td>\n",
       "      <td>9.45</td>\n",
       "      <td>1</td>\n",
       "      <td>0.91</td>\n",
       "    </tr>\n",
       "    <tr>\n",
       "      <th>398</th>\n",
       "      <td>399</td>\n",
       "      <td>312</td>\n",
       "      <td>103</td>\n",
       "      <td>3</td>\n",
       "      <td>3.5</td>\n",
       "      <td>4.0</td>\n",
       "      <td>8.78</td>\n",
       "      <td>0</td>\n",
       "      <td>0.67</td>\n",
       "    </tr>\n",
       "    <tr>\n",
       "      <th>399</th>\n",
       "      <td>400</td>\n",
       "      <td>333</td>\n",
       "      <td>117</td>\n",
       "      <td>4</td>\n",
       "      <td>5.0</td>\n",
       "      <td>4.0</td>\n",
       "      <td>9.66</td>\n",
       "      <td>1</td>\n",
       "      <td>0.95</td>\n",
       "    </tr>\n",
       "  </tbody>\n",
       "</table>\n",
       "<p>400 rows × 9 columns</p>\n",
       "</div>"
      ],
      "text/plain": [
       "     Serial No  GRE Score  TOEFL Score  University Rating   SOP  LOR   CGPA  \\\n",
       "0            1        337          118                  4   4.5   4.5  9.65   \n",
       "1            2        324          107                  4   4.0   4.5  8.87   \n",
       "2            3        316          104                  3   3.0   3.5  8.00   \n",
       "3            4        322          110                  3   3.5   2.5  8.67   \n",
       "4            5        314          103                  2   2.0   3.0  8.21   \n",
       "..         ...        ...          ...                ...   ...   ...   ...   \n",
       "395        396        324          110                  3   3.5   3.5  9.04   \n",
       "396        397        325          107                  3   3.0   3.5  9.11   \n",
       "397        398        330          116                  4   5.0   4.5  9.45   \n",
       "398        399        312          103                  3   3.5   4.0  8.78   \n",
       "399        400        333          117                  4   5.0   4.0  9.66   \n",
       "\n",
       "     Research  Chance of Admit   \n",
       "0           1              0.92  \n",
       "1           1              0.76  \n",
       "2           1              0.72  \n",
       "3           1              0.80  \n",
       "4           0              0.65  \n",
       "..        ...               ...  \n",
       "395         1              0.82  \n",
       "396         1              0.84  \n",
       "397         1              0.91  \n",
       "398         0              0.67  \n",
       "399         1              0.95  \n",
       "\n",
       "[400 rows x 9 columns]"
      ]
     },
     "execution_count": 3,
     "metadata": {},
     "output_type": "execute_result"
    }
   ],
   "source": [
    "df"
   ]
  },
  {
   "cell_type": "code",
   "execution_count": 4,
   "id": "884c5c0d",
   "metadata": {},
   "outputs": [
    {
     "data": {
      "text/html": [
       "<div>\n",
       "<style scoped>\n",
       "    .dataframe tbody tr th:only-of-type {\n",
       "        vertical-align: middle;\n",
       "    }\n",
       "\n",
       "    .dataframe tbody tr th {\n",
       "        vertical-align: top;\n",
       "    }\n",
       "\n",
       "    .dataframe thead th {\n",
       "        text-align: right;\n",
       "    }\n",
       "</style>\n",
       "<table border=\"1\" class=\"dataframe\">\n",
       "  <thead>\n",
       "    <tr style=\"text-align: right;\">\n",
       "      <th></th>\n",
       "      <th>Serial No</th>\n",
       "      <th>GRE Score</th>\n",
       "      <th>TOEFL Score</th>\n",
       "      <th>University Rating</th>\n",
       "      <th>SOP</th>\n",
       "      <th>LOR</th>\n",
       "      <th>CGPA</th>\n",
       "      <th>Research</th>\n",
       "      <th>Chance of Admit</th>\n",
       "    </tr>\n",
       "  </thead>\n",
       "  <tbody>\n",
       "    <tr>\n",
       "      <th>0</th>\n",
       "      <td>1</td>\n",
       "      <td>337</td>\n",
       "      <td>118</td>\n",
       "      <td>4</td>\n",
       "      <td>4.5</td>\n",
       "      <td>4.5</td>\n",
       "      <td>9.65</td>\n",
       "      <td>1</td>\n",
       "      <td>0.92</td>\n",
       "    </tr>\n",
       "    <tr>\n",
       "      <th>1</th>\n",
       "      <td>2</td>\n",
       "      <td>324</td>\n",
       "      <td>107</td>\n",
       "      <td>4</td>\n",
       "      <td>4.0</td>\n",
       "      <td>4.5</td>\n",
       "      <td>8.87</td>\n",
       "      <td>1</td>\n",
       "      <td>0.76</td>\n",
       "    </tr>\n",
       "    <tr>\n",
       "      <th>2</th>\n",
       "      <td>3</td>\n",
       "      <td>316</td>\n",
       "      <td>104</td>\n",
       "      <td>3</td>\n",
       "      <td>3.0</td>\n",
       "      <td>3.5</td>\n",
       "      <td>8.00</td>\n",
       "      <td>1</td>\n",
       "      <td>0.72</td>\n",
       "    </tr>\n",
       "    <tr>\n",
       "      <th>3</th>\n",
       "      <td>4</td>\n",
       "      <td>322</td>\n",
       "      <td>110</td>\n",
       "      <td>3</td>\n",
       "      <td>3.5</td>\n",
       "      <td>2.5</td>\n",
       "      <td>8.67</td>\n",
       "      <td>1</td>\n",
       "      <td>0.80</td>\n",
       "    </tr>\n",
       "    <tr>\n",
       "      <th>4</th>\n",
       "      <td>5</td>\n",
       "      <td>314</td>\n",
       "      <td>103</td>\n",
       "      <td>2</td>\n",
       "      <td>2.0</td>\n",
       "      <td>3.0</td>\n",
       "      <td>8.21</td>\n",
       "      <td>0</td>\n",
       "      <td>0.65</td>\n",
       "    </tr>\n",
       "  </tbody>\n",
       "</table>\n",
       "</div>"
      ],
      "text/plain": [
       "   Serial No  GRE Score  TOEFL Score  University Rating   SOP  LOR   CGPA  \\\n",
       "0          1        337          118                  4   4.5   4.5  9.65   \n",
       "1          2        324          107                  4   4.0   4.5  8.87   \n",
       "2          3        316          104                  3   3.0   3.5  8.00   \n",
       "3          4        322          110                  3   3.5   2.5  8.67   \n",
       "4          5        314          103                  2   2.0   3.0  8.21   \n",
       "\n",
       "   Research  Chance of Admit   \n",
       "0         1              0.92  \n",
       "1         1              0.76  \n",
       "2         1              0.72  \n",
       "3         1              0.80  \n",
       "4         0              0.65  "
      ]
     },
     "execution_count": 4,
     "metadata": {},
     "output_type": "execute_result"
    }
   ],
   "source": [
    "#Use the head the head function to read the first 5 data\n",
    "df.head()"
   ]
  },
  {
   "cell_type": "code",
   "execution_count": 5,
   "id": "6aac530e",
   "metadata": {},
   "outputs": [
    {
     "data": {
      "text/html": [
       "<div>\n",
       "<style scoped>\n",
       "    .dataframe tbody tr th:only-of-type {\n",
       "        vertical-align: middle;\n",
       "    }\n",
       "\n",
       "    .dataframe tbody tr th {\n",
       "        vertical-align: top;\n",
       "    }\n",
       "\n",
       "    .dataframe thead th {\n",
       "        text-align: right;\n",
       "    }\n",
       "</style>\n",
       "<table border=\"1\" class=\"dataframe\">\n",
       "  <thead>\n",
       "    <tr style=\"text-align: right;\">\n",
       "      <th></th>\n",
       "      <th>Serial No</th>\n",
       "      <th>GRE Score</th>\n",
       "      <th>TOEFL Score</th>\n",
       "      <th>University Rating</th>\n",
       "      <th>SOP</th>\n",
       "      <th>LOR</th>\n",
       "      <th>CGPA</th>\n",
       "      <th>Research</th>\n",
       "      <th>Chance of Admit</th>\n",
       "    </tr>\n",
       "  </thead>\n",
       "  <tbody>\n",
       "    <tr>\n",
       "      <th>395</th>\n",
       "      <td>396</td>\n",
       "      <td>324</td>\n",
       "      <td>110</td>\n",
       "      <td>3</td>\n",
       "      <td>3.5</td>\n",
       "      <td>3.5</td>\n",
       "      <td>9.04</td>\n",
       "      <td>1</td>\n",
       "      <td>0.82</td>\n",
       "    </tr>\n",
       "    <tr>\n",
       "      <th>396</th>\n",
       "      <td>397</td>\n",
       "      <td>325</td>\n",
       "      <td>107</td>\n",
       "      <td>3</td>\n",
       "      <td>3.0</td>\n",
       "      <td>3.5</td>\n",
       "      <td>9.11</td>\n",
       "      <td>1</td>\n",
       "      <td>0.84</td>\n",
       "    </tr>\n",
       "    <tr>\n",
       "      <th>397</th>\n",
       "      <td>398</td>\n",
       "      <td>330</td>\n",
       "      <td>116</td>\n",
       "      <td>4</td>\n",
       "      <td>5.0</td>\n",
       "      <td>4.5</td>\n",
       "      <td>9.45</td>\n",
       "      <td>1</td>\n",
       "      <td>0.91</td>\n",
       "    </tr>\n",
       "    <tr>\n",
       "      <th>398</th>\n",
       "      <td>399</td>\n",
       "      <td>312</td>\n",
       "      <td>103</td>\n",
       "      <td>3</td>\n",
       "      <td>3.5</td>\n",
       "      <td>4.0</td>\n",
       "      <td>8.78</td>\n",
       "      <td>0</td>\n",
       "      <td>0.67</td>\n",
       "    </tr>\n",
       "    <tr>\n",
       "      <th>399</th>\n",
       "      <td>400</td>\n",
       "      <td>333</td>\n",
       "      <td>117</td>\n",
       "      <td>4</td>\n",
       "      <td>5.0</td>\n",
       "      <td>4.0</td>\n",
       "      <td>9.66</td>\n",
       "      <td>1</td>\n",
       "      <td>0.95</td>\n",
       "    </tr>\n",
       "  </tbody>\n",
       "</table>\n",
       "</div>"
      ],
      "text/plain": [
       "     Serial No  GRE Score  TOEFL Score  University Rating   SOP  LOR   CGPA  \\\n",
       "395        396        324          110                  3   3.5   3.5  9.04   \n",
       "396        397        325          107                  3   3.0   3.5  9.11   \n",
       "397        398        330          116                  4   5.0   4.5  9.45   \n",
       "398        399        312          103                  3   3.5   4.0  8.78   \n",
       "399        400        333          117                  4   5.0   4.0  9.66   \n",
       "\n",
       "     Research  Chance of Admit   \n",
       "395         1              0.82  \n",
       "396         1              0.84  \n",
       "397         1              0.91  \n",
       "398         0              0.67  \n",
       "399         1              0.95  "
      ]
     },
     "execution_count": 5,
     "metadata": {},
     "output_type": "execute_result"
    }
   ],
   "source": [
    "#Use the tail function to read the last records\n",
    "df.tail()"
   ]
  },
  {
   "cell_type": "code",
   "execution_count": 7,
   "id": "ff5f9239",
   "metadata": {},
   "outputs": [
    {
     "data": {
      "text/plain": [
       "Serial No            0\n",
       "GRE Score            0\n",
       "TOEFL Score          0\n",
       "University Rating    0\n",
       " SOP                 0\n",
       "LOR                  0\n",
       "CGPA                 0\n",
       "Research             0\n",
       "Chance of Admit      0\n",
       "dtype: int64"
      ]
     },
     "execution_count": 7,
     "metadata": {},
     "output_type": "execute_result"
    }
   ],
   "source": [
    "#Checking for null values using isnull() and sum() function\n",
    "df.isnull().sum()"
   ]
  },
  {
   "cell_type": "markdown",
   "id": "79e00e7c",
   "metadata": {},
   "source": [
    "##Defining Dependent and Independent features"
   ]
  },
  {
   "cell_type": "code",
   "execution_count": 9,
   "id": "44a264aa",
   "metadata": {},
   "outputs": [],
   "source": [
    "#independent variable\n",
    "x = df.iloc[:,:-1]"
   ]
  },
  {
   "cell_type": "code",
   "execution_count": 10,
   "id": "19183c31",
   "metadata": {},
   "outputs": [
    {
     "data": {
      "text/html": [
       "<div>\n",
       "<style scoped>\n",
       "    .dataframe tbody tr th:only-of-type {\n",
       "        vertical-align: middle;\n",
       "    }\n",
       "\n",
       "    .dataframe tbody tr th {\n",
       "        vertical-align: top;\n",
       "    }\n",
       "\n",
       "    .dataframe thead th {\n",
       "        text-align: right;\n",
       "    }\n",
       "</style>\n",
       "<table border=\"1\" class=\"dataframe\">\n",
       "  <thead>\n",
       "    <tr style=\"text-align: right;\">\n",
       "      <th></th>\n",
       "      <th>Serial No</th>\n",
       "      <th>GRE Score</th>\n",
       "      <th>TOEFL Score</th>\n",
       "      <th>University Rating</th>\n",
       "      <th>SOP</th>\n",
       "      <th>LOR</th>\n",
       "      <th>CGPA</th>\n",
       "      <th>Research</th>\n",
       "    </tr>\n",
       "  </thead>\n",
       "  <tbody>\n",
       "    <tr>\n",
       "      <th>0</th>\n",
       "      <td>1</td>\n",
       "      <td>337</td>\n",
       "      <td>118</td>\n",
       "      <td>4</td>\n",
       "      <td>4.5</td>\n",
       "      <td>4.5</td>\n",
       "      <td>9.65</td>\n",
       "      <td>1</td>\n",
       "    </tr>\n",
       "    <tr>\n",
       "      <th>1</th>\n",
       "      <td>2</td>\n",
       "      <td>324</td>\n",
       "      <td>107</td>\n",
       "      <td>4</td>\n",
       "      <td>4.0</td>\n",
       "      <td>4.5</td>\n",
       "      <td>8.87</td>\n",
       "      <td>1</td>\n",
       "    </tr>\n",
       "    <tr>\n",
       "      <th>2</th>\n",
       "      <td>3</td>\n",
       "      <td>316</td>\n",
       "      <td>104</td>\n",
       "      <td>3</td>\n",
       "      <td>3.0</td>\n",
       "      <td>3.5</td>\n",
       "      <td>8.00</td>\n",
       "      <td>1</td>\n",
       "    </tr>\n",
       "    <tr>\n",
       "      <th>3</th>\n",
       "      <td>4</td>\n",
       "      <td>322</td>\n",
       "      <td>110</td>\n",
       "      <td>3</td>\n",
       "      <td>3.5</td>\n",
       "      <td>2.5</td>\n",
       "      <td>8.67</td>\n",
       "      <td>1</td>\n",
       "    </tr>\n",
       "    <tr>\n",
       "      <th>4</th>\n",
       "      <td>5</td>\n",
       "      <td>314</td>\n",
       "      <td>103</td>\n",
       "      <td>2</td>\n",
       "      <td>2.0</td>\n",
       "      <td>3.0</td>\n",
       "      <td>8.21</td>\n",
       "      <td>0</td>\n",
       "    </tr>\n",
       "    <tr>\n",
       "      <th>...</th>\n",
       "      <td>...</td>\n",
       "      <td>...</td>\n",
       "      <td>...</td>\n",
       "      <td>...</td>\n",
       "      <td>...</td>\n",
       "      <td>...</td>\n",
       "      <td>...</td>\n",
       "      <td>...</td>\n",
       "    </tr>\n",
       "    <tr>\n",
       "      <th>395</th>\n",
       "      <td>396</td>\n",
       "      <td>324</td>\n",
       "      <td>110</td>\n",
       "      <td>3</td>\n",
       "      <td>3.5</td>\n",
       "      <td>3.5</td>\n",
       "      <td>9.04</td>\n",
       "      <td>1</td>\n",
       "    </tr>\n",
       "    <tr>\n",
       "      <th>396</th>\n",
       "      <td>397</td>\n",
       "      <td>325</td>\n",
       "      <td>107</td>\n",
       "      <td>3</td>\n",
       "      <td>3.0</td>\n",
       "      <td>3.5</td>\n",
       "      <td>9.11</td>\n",
       "      <td>1</td>\n",
       "    </tr>\n",
       "    <tr>\n",
       "      <th>397</th>\n",
       "      <td>398</td>\n",
       "      <td>330</td>\n",
       "      <td>116</td>\n",
       "      <td>4</td>\n",
       "      <td>5.0</td>\n",
       "      <td>4.5</td>\n",
       "      <td>9.45</td>\n",
       "      <td>1</td>\n",
       "    </tr>\n",
       "    <tr>\n",
       "      <th>398</th>\n",
       "      <td>399</td>\n",
       "      <td>312</td>\n",
       "      <td>103</td>\n",
       "      <td>3</td>\n",
       "      <td>3.5</td>\n",
       "      <td>4.0</td>\n",
       "      <td>8.78</td>\n",
       "      <td>0</td>\n",
       "    </tr>\n",
       "    <tr>\n",
       "      <th>399</th>\n",
       "      <td>400</td>\n",
       "      <td>333</td>\n",
       "      <td>117</td>\n",
       "      <td>4</td>\n",
       "      <td>5.0</td>\n",
       "      <td>4.0</td>\n",
       "      <td>9.66</td>\n",
       "      <td>1</td>\n",
       "    </tr>\n",
       "  </tbody>\n",
       "</table>\n",
       "<p>400 rows × 8 columns</p>\n",
       "</div>"
      ],
      "text/plain": [
       "     Serial No  GRE Score  TOEFL Score  University Rating   SOP  LOR   CGPA  \\\n",
       "0            1        337          118                  4   4.5   4.5  9.65   \n",
       "1            2        324          107                  4   4.0   4.5  8.87   \n",
       "2            3        316          104                  3   3.0   3.5  8.00   \n",
       "3            4        322          110                  3   3.5   2.5  8.67   \n",
       "4            5        314          103                  2   2.0   3.0  8.21   \n",
       "..         ...        ...          ...                ...   ...   ...   ...   \n",
       "395        396        324          110                  3   3.5   3.5  9.04   \n",
       "396        397        325          107                  3   3.0   3.5  9.11   \n",
       "397        398        330          116                  4   5.0   4.5  9.45   \n",
       "398        399        312          103                  3   3.5   4.0  8.78   \n",
       "399        400        333          117                  4   5.0   4.0  9.66   \n",
       "\n",
       "     Research  \n",
       "0           1  \n",
       "1           1  \n",
       "2           1  \n",
       "3           1  \n",
       "4           0  \n",
       "..        ...  \n",
       "395         1  \n",
       "396         1  \n",
       "397         1  \n",
       "398         0  \n",
       "399         1  \n",
       "\n",
       "[400 rows x 8 columns]"
      ]
     },
     "execution_count": 10,
     "metadata": {},
     "output_type": "execute_result"
    }
   ],
   "source": [
    "x"
   ]
  },
  {
   "cell_type": "code",
   "execution_count": 11,
   "id": "98209ce8",
   "metadata": {},
   "outputs": [],
   "source": [
    "#dependent variable\n",
    "y=df.iloc[:,-1]"
   ]
  },
  {
   "cell_type": "code",
   "execution_count": 12,
   "id": "d9fed8d2",
   "metadata": {
    "scrolled": true
   },
   "outputs": [
    {
     "data": {
      "text/plain": [
       "0      0.92\n",
       "1      0.76\n",
       "2      0.72\n",
       "3      0.80\n",
       "4      0.65\n",
       "       ... \n",
       "395    0.82\n",
       "396    0.84\n",
       "397    0.91\n",
       "398    0.67\n",
       "399    0.95\n",
       "Name: Chance of Admit , Length: 400, dtype: float64"
      ]
     },
     "execution_count": 12,
     "metadata": {},
     "output_type": "execute_result"
    }
   ],
   "source": [
    "y"
   ]
  },
  {
   "cell_type": "markdown",
   "id": "aecbaa3b",
   "metadata": {},
   "source": [
    "#splitting data for train and test using train_test_split from sklearn"
   ]
  },
  {
   "cell_type": "code",
   "execution_count": 13,
   "id": "9c1bd818",
   "metadata": {},
   "outputs": [],
   "source": [
    "from sklearn.model_selection import train_test_split"
   ]
  },
  {
   "cell_type": "code",
   "execution_count": 14,
   "id": "16d5d326",
   "metadata": {},
   "outputs": [],
   "source": [
    "X_train , X_test , y_train , y_test = train_test_split(x,y,test_size=0.25,random_state=42)"
   ]
  },
  {
   "cell_type": "code",
   "execution_count": 15,
   "id": "67dbd787",
   "metadata": {
    "collapsed": true
   },
   "outputs": [
    {
     "data": {
      "text/html": [
       "<div>\n",
       "<style scoped>\n",
       "    .dataframe tbody tr th:only-of-type {\n",
       "        vertical-align: middle;\n",
       "    }\n",
       "\n",
       "    .dataframe tbody tr th {\n",
       "        vertical-align: top;\n",
       "    }\n",
       "\n",
       "    .dataframe thead th {\n",
       "        text-align: right;\n",
       "    }\n",
       "</style>\n",
       "<table border=\"1\" class=\"dataframe\">\n",
       "  <thead>\n",
       "    <tr style=\"text-align: right;\">\n",
       "      <th></th>\n",
       "      <th>Serial No</th>\n",
       "      <th>GRE Score</th>\n",
       "      <th>TOEFL Score</th>\n",
       "      <th>University Rating</th>\n",
       "      <th>SOP</th>\n",
       "      <th>LOR</th>\n",
       "      <th>CGPA</th>\n",
       "      <th>Research</th>\n",
       "    </tr>\n",
       "  </thead>\n",
       "  <tbody>\n",
       "    <tr>\n",
       "      <th>247</th>\n",
       "      <td>248</td>\n",
       "      <td>311</td>\n",
       "      <td>104</td>\n",
       "      <td>2</td>\n",
       "      <td>2.5</td>\n",
       "      <td>3.5</td>\n",
       "      <td>8.48</td>\n",
       "      <td>0</td>\n",
       "    </tr>\n",
       "    <tr>\n",
       "      <th>110</th>\n",
       "      <td>111</td>\n",
       "      <td>305</td>\n",
       "      <td>108</td>\n",
       "      <td>5</td>\n",
       "      <td>3.0</td>\n",
       "      <td>3.0</td>\n",
       "      <td>8.48</td>\n",
       "      <td>0</td>\n",
       "    </tr>\n",
       "    <tr>\n",
       "      <th>16</th>\n",
       "      <td>17</td>\n",
       "      <td>317</td>\n",
       "      <td>107</td>\n",
       "      <td>3</td>\n",
       "      <td>4.0</td>\n",
       "      <td>3.0</td>\n",
       "      <td>8.70</td>\n",
       "      <td>0</td>\n",
       "    </tr>\n",
       "    <tr>\n",
       "      <th>66</th>\n",
       "      <td>67</td>\n",
       "      <td>327</td>\n",
       "      <td>114</td>\n",
       "      <td>3</td>\n",
       "      <td>3.0</td>\n",
       "      <td>3.0</td>\n",
       "      <td>9.02</td>\n",
       "      <td>0</td>\n",
       "    </tr>\n",
       "    <tr>\n",
       "      <th>153</th>\n",
       "      <td>154</td>\n",
       "      <td>324</td>\n",
       "      <td>105</td>\n",
       "      <td>3</td>\n",
       "      <td>3.0</td>\n",
       "      <td>4.0</td>\n",
       "      <td>8.75</td>\n",
       "      <td>0</td>\n",
       "    </tr>\n",
       "    <tr>\n",
       "      <th>...</th>\n",
       "      <td>...</td>\n",
       "      <td>...</td>\n",
       "      <td>...</td>\n",
       "      <td>...</td>\n",
       "      <td>...</td>\n",
       "      <td>...</td>\n",
       "      <td>...</td>\n",
       "      <td>...</td>\n",
       "    </tr>\n",
       "    <tr>\n",
       "      <th>71</th>\n",
       "      <td>72</td>\n",
       "      <td>336</td>\n",
       "      <td>112</td>\n",
       "      <td>5</td>\n",
       "      <td>5.0</td>\n",
       "      <td>5.0</td>\n",
       "      <td>9.76</td>\n",
       "      <td>1</td>\n",
       "    </tr>\n",
       "    <tr>\n",
       "      <th>106</th>\n",
       "      <td>107</td>\n",
       "      <td>329</td>\n",
       "      <td>111</td>\n",
       "      <td>4</td>\n",
       "      <td>4.5</td>\n",
       "      <td>4.5</td>\n",
       "      <td>9.18</td>\n",
       "      <td>1</td>\n",
       "    </tr>\n",
       "    <tr>\n",
       "      <th>270</th>\n",
       "      <td>271</td>\n",
       "      <td>306</td>\n",
       "      <td>105</td>\n",
       "      <td>2</td>\n",
       "      <td>2.5</td>\n",
       "      <td>3.0</td>\n",
       "      <td>8.22</td>\n",
       "      <td>1</td>\n",
       "    </tr>\n",
       "    <tr>\n",
       "      <th>348</th>\n",
       "      <td>349</td>\n",
       "      <td>302</td>\n",
       "      <td>99</td>\n",
       "      <td>1</td>\n",
       "      <td>2.0</td>\n",
       "      <td>2.0</td>\n",
       "      <td>7.25</td>\n",
       "      <td>0</td>\n",
       "    </tr>\n",
       "    <tr>\n",
       "      <th>102</th>\n",
       "      <td>103</td>\n",
       "      <td>314</td>\n",
       "      <td>106</td>\n",
       "      <td>2</td>\n",
       "      <td>4.0</td>\n",
       "      <td>3.5</td>\n",
       "      <td>8.25</td>\n",
       "      <td>0</td>\n",
       "    </tr>\n",
       "  </tbody>\n",
       "</table>\n",
       "<p>300 rows × 8 columns</p>\n",
       "</div>"
      ],
      "text/plain": [
       "     Serial No  GRE Score  TOEFL Score  University Rating   SOP  LOR   CGPA  \\\n",
       "247        248        311          104                  2   2.5   3.5  8.48   \n",
       "110        111        305          108                  5   3.0   3.0  8.48   \n",
       "16          17        317          107                  3   4.0   3.0  8.70   \n",
       "66          67        327          114                  3   3.0   3.0  9.02   \n",
       "153        154        324          105                  3   3.0   4.0  8.75   \n",
       "..         ...        ...          ...                ...   ...   ...   ...   \n",
       "71          72        336          112                  5   5.0   5.0  9.76   \n",
       "106        107        329          111                  4   4.5   4.5  9.18   \n",
       "270        271        306          105                  2   2.5   3.0  8.22   \n",
       "348        349        302           99                  1   2.0   2.0  7.25   \n",
       "102        103        314          106                  2   4.0   3.5  8.25   \n",
       "\n",
       "     Research  \n",
       "247         0  \n",
       "110         0  \n",
       "16          0  \n",
       "66          0  \n",
       "153         0  \n",
       "..        ...  \n",
       "71          1  \n",
       "106         1  \n",
       "270         1  \n",
       "348         0  \n",
       "102         0  \n",
       "\n",
       "[300 rows x 8 columns]"
      ]
     },
     "execution_count": 15,
     "metadata": {},
     "output_type": "execute_result"
    }
   ],
   "source": [
    "X_train"
   ]
  },
  {
   "cell_type": "code",
   "execution_count": 16,
   "id": "62f419b3",
   "metadata": {
    "collapsed": true
   },
   "outputs": [
    {
     "data": {
      "text/html": [
       "<div>\n",
       "<style scoped>\n",
       "    .dataframe tbody tr th:only-of-type {\n",
       "        vertical-align: middle;\n",
       "    }\n",
       "\n",
       "    .dataframe tbody tr th {\n",
       "        vertical-align: top;\n",
       "    }\n",
       "\n",
       "    .dataframe thead th {\n",
       "        text-align: right;\n",
       "    }\n",
       "</style>\n",
       "<table border=\"1\" class=\"dataframe\">\n",
       "  <thead>\n",
       "    <tr style=\"text-align: right;\">\n",
       "      <th></th>\n",
       "      <th>Serial No</th>\n",
       "      <th>GRE Score</th>\n",
       "      <th>TOEFL Score</th>\n",
       "      <th>University Rating</th>\n",
       "      <th>SOP</th>\n",
       "      <th>LOR</th>\n",
       "      <th>CGPA</th>\n",
       "      <th>Research</th>\n",
       "    </tr>\n",
       "  </thead>\n",
       "  <tbody>\n",
       "    <tr>\n",
       "      <th>209</th>\n",
       "      <td>210</td>\n",
       "      <td>301</td>\n",
       "      <td>104</td>\n",
       "      <td>3</td>\n",
       "      <td>3.5</td>\n",
       "      <td>4.0</td>\n",
       "      <td>8.12</td>\n",
       "      <td>1</td>\n",
       "    </tr>\n",
       "    <tr>\n",
       "      <th>280</th>\n",
       "      <td>281</td>\n",
       "      <td>311</td>\n",
       "      <td>102</td>\n",
       "      <td>3</td>\n",
       "      <td>4.5</td>\n",
       "      <td>4.0</td>\n",
       "      <td>8.64</td>\n",
       "      <td>1</td>\n",
       "    </tr>\n",
       "    <tr>\n",
       "      <th>33</th>\n",
       "      <td>34</td>\n",
       "      <td>340</td>\n",
       "      <td>114</td>\n",
       "      <td>5</td>\n",
       "      <td>4.0</td>\n",
       "      <td>4.0</td>\n",
       "      <td>9.60</td>\n",
       "      <td>1</td>\n",
       "    </tr>\n",
       "    <tr>\n",
       "      <th>210</th>\n",
       "      <td>211</td>\n",
       "      <td>325</td>\n",
       "      <td>108</td>\n",
       "      <td>4</td>\n",
       "      <td>4.5</td>\n",
       "      <td>4.0</td>\n",
       "      <td>9.06</td>\n",
       "      <td>1</td>\n",
       "    </tr>\n",
       "    <tr>\n",
       "      <th>93</th>\n",
       "      <td>94</td>\n",
       "      <td>301</td>\n",
       "      <td>97</td>\n",
       "      <td>2</td>\n",
       "      <td>3.0</td>\n",
       "      <td>3.0</td>\n",
       "      <td>7.88</td>\n",
       "      <td>1</td>\n",
       "    </tr>\n",
       "    <tr>\n",
       "      <th>...</th>\n",
       "      <td>...</td>\n",
       "      <td>...</td>\n",
       "      <td>...</td>\n",
       "      <td>...</td>\n",
       "      <td>...</td>\n",
       "      <td>...</td>\n",
       "      <td>...</td>\n",
       "      <td>...</td>\n",
       "    </tr>\n",
       "    <tr>\n",
       "      <th>314</th>\n",
       "      <td>315</td>\n",
       "      <td>305</td>\n",
       "      <td>105</td>\n",
       "      <td>2</td>\n",
       "      <td>3.0</td>\n",
       "      <td>4.0</td>\n",
       "      <td>8.13</td>\n",
       "      <td>0</td>\n",
       "    </tr>\n",
       "    <tr>\n",
       "      <th>373</th>\n",
       "      <td>374</td>\n",
       "      <td>321</td>\n",
       "      <td>109</td>\n",
       "      <td>3</td>\n",
       "      <td>3.0</td>\n",
       "      <td>3.0</td>\n",
       "      <td>8.54</td>\n",
       "      <td>1</td>\n",
       "    </tr>\n",
       "    <tr>\n",
       "      <th>380</th>\n",
       "      <td>381</td>\n",
       "      <td>322</td>\n",
       "      <td>104</td>\n",
       "      <td>3</td>\n",
       "      <td>3.5</td>\n",
       "      <td>4.0</td>\n",
       "      <td>8.84</td>\n",
       "      <td>1</td>\n",
       "    </tr>\n",
       "    <tr>\n",
       "      <th>239</th>\n",
       "      <td>240</td>\n",
       "      <td>299</td>\n",
       "      <td>100</td>\n",
       "      <td>1</td>\n",
       "      <td>1.5</td>\n",
       "      <td>2.0</td>\n",
       "      <td>7.89</td>\n",
       "      <td>0</td>\n",
       "    </tr>\n",
       "    <tr>\n",
       "      <th>75</th>\n",
       "      <td>76</td>\n",
       "      <td>329</td>\n",
       "      <td>114</td>\n",
       "      <td>2</td>\n",
       "      <td>2.0</td>\n",
       "      <td>4.0</td>\n",
       "      <td>8.56</td>\n",
       "      <td>1</td>\n",
       "    </tr>\n",
       "  </tbody>\n",
       "</table>\n",
       "<p>100 rows × 8 columns</p>\n",
       "</div>"
      ],
      "text/plain": [
       "     Serial No  GRE Score  TOEFL Score  University Rating   SOP  LOR   CGPA  \\\n",
       "209        210        301          104                  3   3.5   4.0  8.12   \n",
       "280        281        311          102                  3   4.5   4.0  8.64   \n",
       "33          34        340          114                  5   4.0   4.0  9.60   \n",
       "210        211        325          108                  4   4.5   4.0  9.06   \n",
       "93          94        301           97                  2   3.0   3.0  7.88   \n",
       "..         ...        ...          ...                ...   ...   ...   ...   \n",
       "314        315        305          105                  2   3.0   4.0  8.13   \n",
       "373        374        321          109                  3   3.0   3.0  8.54   \n",
       "380        381        322          104                  3   3.5   4.0  8.84   \n",
       "239        240        299          100                  1   1.5   2.0  7.89   \n",
       "75          76        329          114                  2   2.0   4.0  8.56   \n",
       "\n",
       "     Research  \n",
       "209         1  \n",
       "280         1  \n",
       "33          1  \n",
       "210         1  \n",
       "93          1  \n",
       "..        ...  \n",
       "314         0  \n",
       "373         1  \n",
       "380         1  \n",
       "239         0  \n",
       "75          1  \n",
       "\n",
       "[100 rows x 8 columns]"
      ]
     },
     "execution_count": 16,
     "metadata": {},
     "output_type": "execute_result"
    }
   ],
   "source": [
    "X_test"
   ]
  },
  {
   "cell_type": "code",
   "execution_count": 17,
   "id": "53b8414e",
   "metadata": {
    "collapsed": true
   },
   "outputs": [
    {
     "data": {
      "text/plain": [
       "247    0.71\n",
       "110    0.61\n",
       "16     0.66\n",
       "66     0.61\n",
       "153    0.79\n",
       "       ... \n",
       "71     0.96\n",
       "106    0.87\n",
       "270    0.72\n",
       "348    0.57\n",
       "102    0.62\n",
       "Name: Chance of Admit , Length: 300, dtype: float64"
      ]
     },
     "execution_count": 17,
     "metadata": {},
     "output_type": "execute_result"
    }
   ],
   "source": [
    "y_train"
   ]
  },
  {
   "cell_type": "code",
   "execution_count": 18,
   "id": "c3e907d6",
   "metadata": {
    "collapsed": true
   },
   "outputs": [
    {
     "data": {
      "text/plain": [
       "209    0.68\n",
       "280    0.68\n",
       "33     0.90\n",
       "210    0.79\n",
       "93     0.44\n",
       "       ... \n",
       "314    0.66\n",
       "373    0.79\n",
       "380    0.78\n",
       "239    0.59\n",
       "75     0.72\n",
       "Name: Chance of Admit , Length: 100, dtype: float64"
      ]
     },
     "execution_count": 18,
     "metadata": {},
     "output_type": "execute_result"
    }
   ],
   "source": [
    "y_test"
   ]
  },
  {
   "cell_type": "markdown",
   "id": "1a9e714a",
   "metadata": {},
   "source": [
    "#select the model for prediction"
   ]
  },
  {
   "cell_type": "code",
   "execution_count": 20,
   "id": "c28690ad",
   "metadata": {},
   "outputs": [],
   "source": [
    "from sklearn.tree import DecisionTreeRegressor , plot_tree"
   ]
  },
  {
   "cell_type": "code",
   "execution_count": 21,
   "id": "1a8f8d07",
   "metadata": {},
   "outputs": [],
   "source": [
    "regressor = DecisionTreeRegressor()"
   ]
  },
  {
   "cell_type": "code",
   "execution_count": 23,
   "id": "698c956f",
   "metadata": {},
   "outputs": [
    {
     "data": {
      "text/plain": [
       "DecisionTreeRegressor()"
      ]
     },
     "execution_count": 23,
     "metadata": {},
     "output_type": "execute_result"
    }
   ],
   "source": [
    "#train the model using fit() function\n",
    "regressor.fit(X_train,y_train)"
   ]
  },
  {
   "cell_type": "code",
   "execution_count": 25,
   "id": "709f2b8e",
   "metadata": {},
   "outputs": [
    {
     "data": {
      "text/plain": [
       "{'ccp_alphas': array([0.00000000e+00, 8.88178420e-18, 1.66666667e-07, 1.66666667e-07,\n",
       "        1.66666667e-07, 1.66666667e-07, 1.66666667e-07, 1.66666667e-07,\n",
       "        1.66666667e-07, 1.66666667e-07, 1.66666667e-07, 1.66666667e-07,\n",
       "        1.66666667e-07, 1.66666667e-07, 1.66666667e-07, 1.66666667e-07,\n",
       "        1.66666667e-07, 1.66666667e-07, 1.66666667e-07, 1.66666667e-07,\n",
       "        1.66666667e-07, 1.66666667e-07, 1.66666667e-07, 1.66666667e-07,\n",
       "        1.66666667e-07, 1.66666667e-07, 1.66666667e-07, 1.66666667e-07,\n",
       "        1.66666667e-07, 1.66666667e-07, 1.66666667e-07, 1.66666667e-07,\n",
       "        1.66666667e-07, 1.66666667e-07, 1.66666667e-07, 2.22222222e-07,\n",
       "        2.22222222e-07, 2.22222222e-07, 2.22222222e-07, 2.22222222e-07,\n",
       "        2.22222222e-07, 2.22222222e-07, 2.22222222e-07, 2.22222222e-07,\n",
       "        2.22222222e-07, 2.22222222e-07, 2.50000000e-07, 2.50000000e-07,\n",
       "        3.33333333e-07, 4.00000000e-07, 4.44444444e-07, 4.76190476e-07,\n",
       "        5.00000000e-07, 5.00000000e-07, 5.00000000e-07, 5.00000000e-07,\n",
       "        5.00000000e-07, 5.00000000e-07, 5.00000000e-07, 5.71428571e-07,\n",
       "        6.66666667e-07, 6.66666667e-07, 6.66666667e-07, 6.66666667e-07,\n",
       "        6.66666667e-07, 6.66666667e-07, 6.66666667e-07, 6.66666667e-07,\n",
       "        6.66666667e-07, 6.66666667e-07, 6.66666667e-07, 7.50000000e-07,\n",
       "        7.50000000e-07, 7.50000000e-07, 8.33333333e-07, 8.88888889e-07,\n",
       "        8.88888889e-07, 8.88888889e-07, 8.88888889e-07, 1.00000000e-06,\n",
       "        1.06666667e-06, 1.21904762e-06, 1.33333333e-06, 1.35000000e-06,\n",
       "        1.36111111e-06, 1.36111111e-06, 1.36111111e-06, 1.38888889e-06,\n",
       "        1.38888889e-06, 1.38888889e-06, 1.38888889e-06, 1.38888889e-06,\n",
       "        1.50000000e-06, 1.50000000e-06, 1.50000000e-06, 1.50000000e-06,\n",
       "        1.50000000e-06, 1.50000000e-06, 1.50000000e-06, 1.52380952e-06,\n",
       "        1.66666667e-06, 1.66666667e-06, 1.72023810e-06, 1.75000000e-06,\n",
       "        1.77777778e-06, 1.77777778e-06, 1.77777778e-06, 1.87777778e-06,\n",
       "        1.94285714e-06, 2.01666667e-06, 2.08333333e-06, 2.25000000e-06,\n",
       "        2.36805556e-06, 2.50000000e-06, 2.72222222e-06, 2.77777778e-06,\n",
       "        2.84444444e-06, 2.88888889e-06, 3.00000000e-06, 3.13912232e-06,\n",
       "        3.26666667e-06, 3.36111111e-06, 3.36111111e-06, 3.55555556e-06,\n",
       "        3.55555556e-06, 3.55555556e-06, 3.60000000e-06, 3.61111111e-06,\n",
       "        3.91203704e-06, 4.16666667e-06, 4.33928571e-06, 4.50000000e-06,\n",
       "        4.50000000e-06, 4.90000000e-06, 5.12500000e-06, 5.37777778e-06,\n",
       "        5.55555556e-06, 5.78571429e-06, 6.00000000e-06, 6.00000000e-06,\n",
       "        6.06818182e-06, 6.55594406e-06, 6.56791702e-06, 6.94444444e-06,\n",
       "        7.11111111e-06, 7.51111111e-06, 8.00000000e-06, 8.00000000e-06,\n",
       "        8.12698413e-06, 8.16666667e-06, 8.33333333e-06, 8.53333333e-06,\n",
       "        8.68055556e-06, 8.70833333e-06, 8.81666667e-06, 9.38888889e-06,\n",
       "        9.38888889e-06, 9.38888889e-06, 1.00277778e-05, 1.00833333e-05,\n",
       "        1.05000000e-05, 1.06666667e-05, 1.08750000e-05, 1.22261209e-05,\n",
       "        1.28444444e-05, 1.30476190e-05, 1.31431078e-05, 1.40166667e-05,\n",
       "        1.44000000e-05, 1.47000000e-05, 1.50416667e-05, 1.52804233e-05,\n",
       "        1.62919192e-05, 1.68125000e-05, 1.70666667e-05, 1.81500000e-05,\n",
       "        1.98412698e-05, 2.00076923e-05, 2.13527668e-05, 2.22392157e-05,\n",
       "        2.40000000e-05, 2.46765873e-05, 2.49005556e-05, 2.53761905e-05,\n",
       "        2.56060606e-05, 2.68888889e-05, 2.91358197e-05, 2.97608696e-05,\n",
       "        3.26666667e-05, 3.32094823e-05, 3.76888889e-05, 4.20992063e-05,\n",
       "        4.25694853e-05, 4.38779240e-05, 4.55111111e-05, 4.55111111e-05,\n",
       "        5.37396825e-05, 6.20026144e-05, 6.43809524e-05, 6.71674464e-05,\n",
       "        6.90250000e-05, 7.09388889e-05, 8.60444444e-05, 8.80111111e-05,\n",
       "        9.04053085e-05, 9.28366958e-05, 1.12011905e-04, 1.18300000e-04,\n",
       "        1.20023810e-04, 1.21388300e-04, 1.21904762e-04, 1.26000000e-04,\n",
       "        1.43104456e-04, 1.76560483e-04, 1.84164103e-04, 1.95796258e-04,\n",
       "        2.80930116e-04, 3.19348236e-04, 4.58402800e-04, 5.80395960e-04,\n",
       "        1.64447751e-03, 2.38717189e-03, 9.60503238e-03]),\n",
       " 'impurities': array([-2.72929827e-17, -1.84111985e-17,  1.66666667e-07,  3.33333333e-07,\n",
       "         5.00000000e-07,  6.66666667e-07,  8.33333333e-07,  1.00000000e-06,\n",
       "         1.16666667e-06,  1.33333333e-06,  1.50000000e-06,  1.83333333e-06,\n",
       "         2.00000000e-06,  2.16666667e-06,  2.33333333e-06,  2.50000000e-06,\n",
       "         2.66666667e-06,  2.83333333e-06,  3.00000000e-06,  3.16666667e-06,\n",
       "         3.33333333e-06,  3.50000000e-06,  3.66666667e-06,  3.83333333e-06,\n",
       "         4.00000000e-06,  4.16666667e-06,  4.33333333e-06,  4.50000000e-06,\n",
       "         4.66666667e-06,  4.83333333e-06,  5.00000000e-06,  5.16666667e-06,\n",
       "         5.33333333e-06,  5.50000000e-06,  5.66666667e-06,  5.88888889e-06,\n",
       "         6.11111111e-06,  6.33333333e-06,  6.55555556e-06,  6.77777778e-06,\n",
       "         7.00000000e-06,  7.22222222e-06,  7.44444444e-06,  7.66666667e-06,\n",
       "         7.88888889e-06,  8.11111111e-06,  8.36111111e-06,  8.61111111e-06,\n",
       "         8.94444444e-06,  9.34444444e-06,  9.78888889e-06,  1.02650794e-05,\n",
       "         1.07650794e-05,  1.12650794e-05,  1.17650794e-05,  1.22650794e-05,\n",
       "         1.27650794e-05,  1.32650794e-05,  1.37650794e-05,  1.43365079e-05,\n",
       "         1.50031746e-05,  1.56698413e-05,  1.63365079e-05,  1.70031746e-05,\n",
       "         1.76698413e-05,  1.83365079e-05,  1.90031746e-05,  1.96698413e-05,\n",
       "         2.03365079e-05,  2.10031746e-05,  2.16698413e-05,  2.24198413e-05,\n",
       "         2.31698413e-05,  2.39198413e-05,  2.47531746e-05,  2.56420635e-05,\n",
       "         2.65309524e-05,  2.74198413e-05,  2.83087302e-05,  2.93087302e-05,\n",
       "         3.03753968e-05,  3.15944444e-05,  3.29277778e-05,  3.42777778e-05,\n",
       "         3.56388889e-05,  3.70000000e-05,  3.83611111e-05,  3.97500000e-05,\n",
       "         4.11388889e-05,  4.25277778e-05,  4.39166667e-05,  4.53055556e-05,\n",
       "         4.68055556e-05,  4.83055556e-05,  4.98055556e-05,  5.13055556e-05,\n",
       "         5.28055556e-05,  5.43055556e-05,  5.58055556e-05,  5.73293651e-05,\n",
       "         5.89960317e-05,  6.06626984e-05,  6.23829365e-05,  6.41329365e-05,\n",
       "         6.59107143e-05,  6.76884921e-05,  6.94662698e-05,  7.13440476e-05,\n",
       "         7.52297619e-05,  7.72464286e-05,  7.93297619e-05,  8.15797619e-05,\n",
       "         8.63158730e-05,  8.88158730e-05,  9.15380952e-05,  9.43158730e-05,\n",
       "         9.71603175e-05,  1.02938095e-04,  1.05938095e-04,  1.09077218e-04,\n",
       "         1.12343884e-04,  1.15704995e-04,  1.19066106e-04,  1.22621662e-04,\n",
       "         1.26177218e-04,  1.29732773e-04,  1.33332773e-04,  1.40554995e-04,\n",
       "         1.44467032e-04,  1.48633699e-04,  1.52972985e-04,  1.57472985e-04,\n",
       "         1.61972985e-04,  1.66872985e-04,  1.77122985e-04,  1.82500763e-04,\n",
       "         1.88056318e-04,  1.93842032e-04,  1.99842032e-04,  2.05842032e-04,\n",
       "         2.17978396e-04,  2.24534340e-04,  2.31102257e-04,  2.38046702e-04,\n",
       "         2.45157813e-04,  2.52668924e-04,  2.60668924e-04,  2.68668924e-04,\n",
       "         2.76795908e-04,  2.84962575e-04,  2.93295908e-04,  3.10362575e-04,\n",
       "         3.19043130e-04,  3.36459797e-04,  3.45276463e-04,  3.54665352e-04,\n",
       "         3.64054241e-04,  3.73443130e-04,  3.83470908e-04,  3.93554241e-04,\n",
       "         4.04054241e-04,  4.14720908e-04,  4.36470908e-04,  4.48697029e-04,\n",
       "         4.61541473e-04,  5.00684330e-04,  5.13827438e-04,  5.27844105e-04,\n",
       "         5.42244105e-04,  5.56944105e-04,  5.71985771e-04,  5.87266195e-04,\n",
       "         6.03558114e-04,  6.37183114e-04,  6.54249781e-04,  6.72399781e-04,\n",
       "         6.92241050e-04,  7.12248743e-04,  7.33601510e-04,  7.78079941e-04,\n",
       "         8.02079941e-04,  8.51433115e-04,  9.75935893e-04,  1.00131208e-03,\n",
       "         1.02691814e-03,  1.05380703e-03,  1.08294285e-03,  1.11270372e-03,\n",
       "         1.14537039e-03,  1.17857987e-03,  1.25395765e-03,  1.29605686e-03,\n",
       "         1.33862634e-03,  1.38250426e-03,  1.42801538e-03,  1.47352649e-03,\n",
       "         1.52726617e-03,  1.58926878e-03,  1.65364974e-03,  1.72081718e-03,\n",
       "         1.85886718e-03,  1.92980607e-03,  2.01585052e-03,  2.10386163e-03,\n",
       "         2.19426694e-03,  2.47277702e-03,  2.58478893e-03,  2.70308893e-03,\n",
       "         2.82311274e-03,  2.94450104e-03,  3.06640580e-03,  3.19240580e-03,\n",
       "         3.33551026e-03,  3.51207074e-03,  3.69623484e-03,  3.89203110e-03,\n",
       "         4.17296122e-03,  4.49230945e-03,  4.95071225e-03,  5.53110821e-03,\n",
       "         7.17558572e-03,  9.56275762e-03,  1.91677900e-02])}"
      ]
     },
     "execution_count": 25,
     "metadata": {},
     "output_type": "execute_result"
    }
   ],
   "source": [
    "regressor.cost_complexity_pruning_path(X_train,y_train)"
   ]
  },
  {
   "cell_type": "code",
   "execution_count": 28,
   "id": "45d5b958",
   "metadata": {},
   "outputs": [
    {
     "data": {
      "text/plain": [
       "1.0"
      ]
     },
     "execution_count": 28,
     "metadata": {},
     "output_type": "execute_result"
    }
   ],
   "source": [
    "regressor.score(X_train,y_train)"
   ]
  },
  {
   "cell_type": "markdown",
   "id": "150019e3",
   "metadata": {},
   "source": [
    "#Cross validating the model on train sample"
   ]
  },
  {
   "cell_type": "code",
   "execution_count": 29,
   "id": "609faa3d",
   "metadata": {},
   "outputs": [],
   "source": [
    "from sklearn.model_selection import cross_validate"
   ]
  },
  {
   "cell_type": "code",
   "execution_count": 30,
   "id": "e6e99271",
   "metadata": {},
   "outputs": [
    {
     "data": {
      "text/plain": [
       "{'fit_time': array([0.00498533, 0.0039885 , 0.0030148 , 0.00299335, 0.00301671]),\n",
       " 'score_time': array([0.00250888, 0.00199437, 0.00097418, 0.00199366, 0.00099039]),\n",
       " 'test_score': array([0.19042527, 0.58901165, 0.5481986 , 0.73233279, 0.60086662])}"
      ]
     },
     "execution_count": 30,
     "metadata": {},
     "output_type": "execute_result"
    }
   ],
   "source": [
    "cross_validate(regressor,X_train,y_train)"
   ]
  },
  {
   "cell_type": "markdown",
   "id": "cb7c2db9",
   "metadata": {},
   "source": [
    "#Model hyper-parameters"
   ]
  },
  {
   "cell_type": "code",
   "execution_count": 32,
   "id": "30b97ebb",
   "metadata": {},
   "outputs": [
    {
     "data": {
      "text/plain": [
       "{'ccp_alpha': 0.0,\n",
       " 'criterion': 'squared_error',\n",
       " 'max_depth': None,\n",
       " 'max_features': None,\n",
       " 'max_leaf_nodes': None,\n",
       " 'min_impurity_decrease': 0.0,\n",
       " 'min_samples_leaf': 1,\n",
       " 'min_samples_split': 2,\n",
       " 'min_weight_fraction_leaf': 0.0,\n",
       " 'random_state': None,\n",
       " 'splitter': 'best'}"
      ]
     },
     "execution_count": 32,
     "metadata": {},
     "output_type": "execute_result"
    }
   ],
   "source": [
    "regressor.get_params()"
   ]
  },
  {
   "cell_type": "code",
   "execution_count": 45,
   "id": "4063e17e",
   "metadata": {},
   "outputs": [],
   "source": [
    "#hyperparameter selection\n",
    "params = {'model__max_depth' : [2,3,4,5,6,7,8, 9, 10],\n",
    "        'model__criterion' : ['squared_error', 'absolute_error'],\n",
    "        'model__random_state' : [42]}"
   ]
  },
  {
   "cell_type": "code",
   "execution_count": 46,
   "id": "1b375316",
   "metadata": {},
   "outputs": [],
   "source": [
    "from sklearn.pipeline import Pipeline"
   ]
  },
  {
   "cell_type": "code",
   "execution_count": 47,
   "id": "062a8ca1",
   "metadata": {},
   "outputs": [],
   "source": [
    "pipe = Pipeline([('model',regressor)])"
   ]
  },
  {
   "cell_type": "code",
   "execution_count": 48,
   "id": "71d3f428",
   "metadata": {},
   "outputs": [],
   "source": [
    "from sklearn.model_selection import GridSearchCV"
   ]
  },
  {
   "cell_type": "code",
   "execution_count": 49,
   "id": "dd05c9d0",
   "metadata": {},
   "outputs": [],
   "source": [
    "grid = GridSearchCV(pipe,params,cv=5)"
   ]
  },
  {
   "cell_type": "code",
   "execution_count": 50,
   "id": "4ad5053f",
   "metadata": {},
   "outputs": [
    {
     "data": {
      "text/plain": [
       "GridSearchCV(cv=5,\n",
       "             estimator=Pipeline(steps=[('model', DecisionTreeRegressor())]),\n",
       "             param_grid={'model__criterion': ['squared_error',\n",
       "                                              'absolute_error'],\n",
       "                         'model__max_depth': [2, 3, 4, 5, 6, 7, 8, 9, 10],\n",
       "                         'model__random_state': [42]})"
      ]
     },
     "execution_count": 50,
     "metadata": {},
     "output_type": "execute_result"
    }
   ],
   "source": [
    "grid"
   ]
  },
  {
   "cell_type": "code",
   "execution_count": 51,
   "id": "2ec17b7d",
   "metadata": {
    "scrolled": true
   },
   "outputs": [
    {
     "data": {
      "text/plain": [
       "GridSearchCV(cv=5,\n",
       "             estimator=Pipeline(steps=[('model', DecisionTreeRegressor())]),\n",
       "             param_grid={'model__criterion': ['squared_error',\n",
       "                                              'absolute_error'],\n",
       "                         'model__max_depth': [2, 3, 4, 5, 6, 7, 8, 9, 10],\n",
       "                         'model__random_state': [42]})"
      ]
     },
     "execution_count": 51,
     "metadata": {},
     "output_type": "execute_result"
    }
   ],
   "source": [
    "grid.fit(X_train,y_train)"
   ]
  },
  {
   "cell_type": "code",
   "execution_count": 56,
   "id": "04f1dc33",
   "metadata": {},
   "outputs": [
    {
     "data": {
      "text/plain": [
       "{'model__criterion': 'squared_error',\n",
       " 'model__max_depth': 3,\n",
       " 'model__random_state': 42}"
      ]
     },
     "execution_count": 56,
     "metadata": {},
     "output_type": "execute_result"
    }
   ],
   "source": [
    "grid.best_params_"
   ]
  },
  {
   "cell_type": "code",
   "execution_count": 57,
   "id": "ce0b7db6",
   "metadata": {},
   "outputs": [],
   "source": [
    "best = grid.best_estimator_"
   ]
  },
  {
   "cell_type": "code",
   "execution_count": 58,
   "id": "96378c4f",
   "metadata": {},
   "outputs": [
    {
     "data": {
      "text/plain": [
       "Pipeline(steps=[('model', DecisionTreeRegressor(max_depth=3, random_state=42))])"
      ]
     },
     "execution_count": 58,
     "metadata": {},
     "output_type": "execute_result"
    }
   ],
   "source": [
    "best.fit(X_train,y_train)"
   ]
  },
  {
   "cell_type": "code",
   "execution_count": 59,
   "id": "ae23b9b9",
   "metadata": {},
   "outputs": [],
   "source": [
    "y_pred=best.predict(X_test)"
   ]
  },
  {
   "cell_type": "code",
   "execution_count": 61,
   "id": "931637cf",
   "metadata": {},
   "outputs": [],
   "source": [
    "from sklearn.metrics import mean_absolute_error, mean_absolute_percentage_error, r2_score"
   ]
  },
  {
   "cell_type": "code",
   "execution_count": 67,
   "id": "3b07098f",
   "metadata": {},
   "outputs": [
    {
     "data": {
      "text/plain": [
       "0.05102742649333039"
      ]
     },
     "execution_count": 67,
     "metadata": {},
     "output_type": "execute_result"
    }
   ],
   "source": [
    "# mean absolute error\n",
    "mean_absolute_error(y_test,y_pred)"
   ]
  },
  {
   "cell_type": "code",
   "execution_count": 68,
   "id": "07e465d8",
   "metadata": {},
   "outputs": [
    {
     "data": {
      "text/plain": [
       "0.0848962646220535"
      ]
     },
     "execution_count": 68,
     "metadata": {},
     "output_type": "execute_result"
    }
   ],
   "source": [
    "mean_absolute_percentage_error(y_test,y_pred)"
   ]
  }
 ],
 "metadata": {
  "kernelspec": {
   "display_name": "Python 3 (ipykernel)",
   "language": "python",
   "name": "python3"
  },
  "language_info": {
   "codemirror_mode": {
    "name": "ipython",
    "version": 3
   },
   "file_extension": ".py",
   "mimetype": "text/x-python",
   "name": "python",
   "nbconvert_exporter": "python",
   "pygments_lexer": "ipython3",
   "version": "3.9.13"
  }
 },
 "nbformat": 4,
 "nbformat_minor": 5
}
